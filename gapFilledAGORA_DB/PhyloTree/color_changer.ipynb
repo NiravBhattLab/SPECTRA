{
 "cells": [
  {
   "cell_type": "code",
   "execution_count": 7,
   "id": "599fa3ab",
   "metadata": {},
   "outputs": [],
   "source": [
    "from PIL import Image\n",
    "\n",
    "img = Image.open(\"./Final Tree/tree1.png\").convert(\"RGBA\")\n",
    "data = img.getdata()\n",
    "new_data = []\n",
    "\n",
    "for item in data:\n",
    "    # Replace pure green (#00ff00) with #80c080\n",
    "    if item[:3] == (0, 255, 0):\n",
    "        new_data.append((128, 192, 128, item[3]))\n",
    "    # Replace pure red (#ff0000) with #004080\n",
    "    elif item[1:3] == (0, 0):\n",
    "        if item[0] !=0:\n",
    "            new_data.append((0, 64, 128, item[3]))\n",
    "        else:\n",
    "            new_data.append(item)\n",
    "    else:\n",
    "        new_data.append(item)\n",
    "\n",
    "img.putdata(new_data)\n",
    "img.save(\"output.png\")\n"
   ]
  },
  {
   "cell_type": "code",
   "execution_count": null,
   "id": "f6d88c8c",
   "metadata": {},
   "outputs": [],
   "source": []
  }
 ],
 "metadata": {
  "kernelspec": {
   "display_name": "MOMI",
   "language": "python",
   "name": "python3"
  },
  "language_info": {
   "codemirror_mode": {
    "name": "ipython",
    "version": 3
   },
   "file_extension": ".py",
   "mimetype": "text/x-python",
   "name": "python",
   "nbconvert_exporter": "python",
   "pygments_lexer": "ipython3",
   "version": "3.10.14"
  }
 },
 "nbformat": 4,
 "nbformat_minor": 5
}
